{
 "cells": [
  {
   "cell_type": "markdown",
   "metadata": {},
   "source": [
    "# Projet INTELIGENCE ARTIFICIELLE\n",
    "# MALLAT Amira "
   ]
  },
  {
   "cell_type": "markdown",
   "metadata": {},
   "source": [
    "## 1/ Chargement de la base de données\n"
   ]
  },
  {
   "cell_type": "code",
   "execution_count": 1,
   "metadata": {},
   "outputs": [],
   "source": [
    "import numpy as np \n",
    "np.set_printoptions (suppress=True) \n",
    "import pandas as pd  \n",
    "import warnings \n",
    "import matplotlib.pyplot as plt \n",
    "warnings.filterwarnings('ignore') "
   ]
  },
  {
   "cell_type": "code",
   "execution_count": 2,
   "metadata": {},
   "outputs": [],
   "source": [
    "scor=pd.read_csv('./credit_scoring.csv',sep=';', header=(0) )"
   ]
  },
  {
   "cell_type": "code",
   "execution_count": 3,
   "metadata": {},
   "outputs": [
    {
     "data": {
      "text/html": [
       "<div>\n",
       "<style scoped>\n",
       "    .dataframe tbody tr th:only-of-type {\n",
       "        vertical-align: middle;\n",
       "    }\n",
       "\n",
       "    .dataframe tbody tr th {\n",
       "        vertical-align: top;\n",
       "    }\n",
       "\n",
       "    .dataframe thead th {\n",
       "        text-align: right;\n",
       "    }\n",
       "</style>\n",
       "<table border=\"1\" class=\"dataframe\">\n",
       "  <thead>\n",
       "    <tr style=\"text-align: right;\">\n",
       "      <th></th>\n",
       "      <th>Seniority</th>\n",
       "      <th>Home</th>\n",
       "      <th>Time</th>\n",
       "      <th>Age</th>\n",
       "      <th>Marital</th>\n",
       "      <th>Records</th>\n",
       "      <th>Job</th>\n",
       "      <th>Expenses</th>\n",
       "      <th>Income</th>\n",
       "      <th>Assets</th>\n",
       "      <th>Debt</th>\n",
       "      <th>Amount</th>\n",
       "      <th>Price</th>\n",
       "      <th>Status</th>\n",
       "    </tr>\n",
       "  </thead>\n",
       "  <tbody>\n",
       "    <tr>\n",
       "      <th>0</th>\n",
       "      <td>9.0</td>\n",
       "      <td>1.0</td>\n",
       "      <td>60.0</td>\n",
       "      <td>30.0</td>\n",
       "      <td>0.0</td>\n",
       "      <td>1.0</td>\n",
       "      <td>1.0</td>\n",
       "      <td>73.0</td>\n",
       "      <td>129.0</td>\n",
       "      <td>0.0</td>\n",
       "      <td>0.0</td>\n",
       "      <td>800.0</td>\n",
       "      <td>846.0</td>\n",
       "      <td>1</td>\n",
       "    </tr>\n",
       "    <tr>\n",
       "      <th>1</th>\n",
       "      <td>17.0</td>\n",
       "      <td>1.0</td>\n",
       "      <td>60.0</td>\n",
       "      <td>58.0</td>\n",
       "      <td>1.0</td>\n",
       "      <td>1.0</td>\n",
       "      <td>0.0</td>\n",
       "      <td>48.0</td>\n",
       "      <td>131.0</td>\n",
       "      <td>0.0</td>\n",
       "      <td>0.0</td>\n",
       "      <td>1000.0</td>\n",
       "      <td>1658.0</td>\n",
       "      <td>1</td>\n",
       "    </tr>\n",
       "    <tr>\n",
       "      <th>2</th>\n",
       "      <td>10.0</td>\n",
       "      <td>0.0</td>\n",
       "      <td>36.0</td>\n",
       "      <td>46.0</td>\n",
       "      <td>0.0</td>\n",
       "      <td>2.0</td>\n",
       "      <td>1.0</td>\n",
       "      <td>90.0</td>\n",
       "      <td>200.0</td>\n",
       "      <td>3000.0</td>\n",
       "      <td>0.0</td>\n",
       "      <td>2000.0</td>\n",
       "      <td>2985.0</td>\n",
       "      <td>0</td>\n",
       "    </tr>\n",
       "    <tr>\n",
       "      <th>3</th>\n",
       "      <td>0.0</td>\n",
       "      <td>1.0</td>\n",
       "      <td>60.0</td>\n",
       "      <td>24.0</td>\n",
       "      <td>1.0</td>\n",
       "      <td>1.0</td>\n",
       "      <td>0.0</td>\n",
       "      <td>63.0</td>\n",
       "      <td>182.0</td>\n",
       "      <td>2500.0</td>\n",
       "      <td>0.0</td>\n",
       "      <td>900.0</td>\n",
       "      <td>1325.0</td>\n",
       "      <td>1</td>\n",
       "    </tr>\n",
       "    <tr>\n",
       "      <th>4</th>\n",
       "      <td>0.0</td>\n",
       "      <td>1.0</td>\n",
       "      <td>36.0</td>\n",
       "      <td>26.0</td>\n",
       "      <td>1.0</td>\n",
       "      <td>1.0</td>\n",
       "      <td>0.0</td>\n",
       "      <td>46.0</td>\n",
       "      <td>107.0</td>\n",
       "      <td>0.0</td>\n",
       "      <td>0.0</td>\n",
       "      <td>310.0</td>\n",
       "      <td>910.0</td>\n",
       "      <td>1</td>\n",
       "    </tr>\n",
       "    <tr>\n",
       "      <th>5</th>\n",
       "      <td>1.0</td>\n",
       "      <td>0.0</td>\n",
       "      <td>60.0</td>\n",
       "      <td>36.0</td>\n",
       "      <td>0.0</td>\n",
       "      <td>1.0</td>\n",
       "      <td>0.0</td>\n",
       "      <td>75.0</td>\n",
       "      <td>214.0</td>\n",
       "      <td>3500.0</td>\n",
       "      <td>0.0</td>\n",
       "      <td>650.0</td>\n",
       "      <td>1645.0</td>\n",
       "      <td>1</td>\n",
       "    </tr>\n",
       "    <tr>\n",
       "      <th>6</th>\n",
       "      <td>29.0</td>\n",
       "      <td>0.0</td>\n",
       "      <td>60.0</td>\n",
       "      <td>44.0</td>\n",
       "      <td>0.0</td>\n",
       "      <td>1.0</td>\n",
       "      <td>0.0</td>\n",
       "      <td>75.0</td>\n",
       "      <td>125.0</td>\n",
       "      <td>10000.0</td>\n",
       "      <td>0.0</td>\n",
       "      <td>1600.0</td>\n",
       "      <td>1800.0</td>\n",
       "      <td>1</td>\n",
       "    </tr>\n",
       "    <tr>\n",
       "      <th>7</th>\n",
       "      <td>9.0</td>\n",
       "      <td>1.0</td>\n",
       "      <td>12.0</td>\n",
       "      <td>27.0</td>\n",
       "      <td>1.0</td>\n",
       "      <td>1.0</td>\n",
       "      <td>0.0</td>\n",
       "      <td>35.0</td>\n",
       "      <td>80.0</td>\n",
       "      <td>0.0</td>\n",
       "      <td>0.0</td>\n",
       "      <td>200.0</td>\n",
       "      <td>1093.0</td>\n",
       "      <td>1</td>\n",
       "    </tr>\n",
       "    <tr>\n",
       "      <th>8</th>\n",
       "      <td>0.0</td>\n",
       "      <td>0.0</td>\n",
       "      <td>60.0</td>\n",
       "      <td>32.0</td>\n",
       "      <td>0.0</td>\n",
       "      <td>1.0</td>\n",
       "      <td>1.0</td>\n",
       "      <td>90.0</td>\n",
       "      <td>107.0</td>\n",
       "      <td>15000.0</td>\n",
       "      <td>0.0</td>\n",
       "      <td>1200.0</td>\n",
       "      <td>1957.0</td>\n",
       "      <td>1</td>\n",
       "    </tr>\n",
       "    <tr>\n",
       "      <th>9</th>\n",
       "      <td>0.0</td>\n",
       "      <td>1.0</td>\n",
       "      <td>48.0</td>\n",
       "      <td>41.0</td>\n",
       "      <td>0.0</td>\n",
       "      <td>1.0</td>\n",
       "      <td>1.0</td>\n",
       "      <td>90.0</td>\n",
       "      <td>80.0</td>\n",
       "      <td>0.0</td>\n",
       "      <td>0.0</td>\n",
       "      <td>1200.0</td>\n",
       "      <td>1468.0</td>\n",
       "      <td>0</td>\n",
       "    </tr>\n",
       "    <tr>\n",
       "      <th>10</th>\n",
       "      <td>6.0</td>\n",
       "      <td>0.0</td>\n",
       "      <td>48.0</td>\n",
       "      <td>34.0</td>\n",
       "      <td>0.0</td>\n",
       "      <td>1.0</td>\n",
       "      <td>1.0</td>\n",
       "      <td>60.0</td>\n",
       "      <td>125.0</td>\n",
       "      <td>4000.0</td>\n",
       "      <td>0.0</td>\n",
       "      <td>1150.0</td>\n",
       "      <td>1577.0</td>\n",
       "      <td>1</td>\n",
       "    </tr>\n",
       "    <tr>\n",
       "      <th>11</th>\n",
       "      <td>7.0</td>\n",
       "      <td>0.0</td>\n",
       "      <td>36.0</td>\n",
       "      <td>29.0</td>\n",
       "      <td>0.0</td>\n",
       "      <td>1.0</td>\n",
       "      <td>0.0</td>\n",
       "      <td>60.0</td>\n",
       "      <td>121.0</td>\n",
       "      <td>3000.0</td>\n",
       "      <td>0.0</td>\n",
       "      <td>650.0</td>\n",
       "      <td>915.0</td>\n",
       "      <td>1</td>\n",
       "    </tr>\n",
       "    <tr>\n",
       "      <th>12</th>\n",
       "      <td>8.0</td>\n",
       "      <td>0.0</td>\n",
       "      <td>60.0</td>\n",
       "      <td>30.0</td>\n",
       "      <td>0.0</td>\n",
       "      <td>1.0</td>\n",
       "      <td>0.0</td>\n",
       "      <td>75.0</td>\n",
       "      <td>199.0</td>\n",
       "      <td>5000.0</td>\n",
       "      <td>2500.0</td>\n",
       "      <td>1500.0</td>\n",
       "      <td>1650.0</td>\n",
       "      <td>1</td>\n",
       "    </tr>\n",
       "    <tr>\n",
       "      <th>13</th>\n",
       "      <td>19.0</td>\n",
       "      <td>1.0</td>\n",
       "      <td>36.0</td>\n",
       "      <td>37.0</td>\n",
       "      <td>0.0</td>\n",
       "      <td>1.0</td>\n",
       "      <td>0.0</td>\n",
       "      <td>75.0</td>\n",
       "      <td>170.0</td>\n",
       "      <td>3500.0</td>\n",
       "      <td>260.0</td>\n",
       "      <td>600.0</td>\n",
       "      <td>940.0</td>\n",
       "      <td>1</td>\n",
       "    </tr>\n",
       "    <tr>\n",
       "      <th>14</th>\n",
       "      <td>0.0</td>\n",
       "      <td>1.0</td>\n",
       "      <td>18.0</td>\n",
       "      <td>21.0</td>\n",
       "      <td>1.0</td>\n",
       "      <td>2.0</td>\n",
       "      <td>1.0</td>\n",
       "      <td>35.0</td>\n",
       "      <td>50.0</td>\n",
       "      <td>0.0</td>\n",
       "      <td>0.0</td>\n",
       "      <td>400.0</td>\n",
       "      <td>500.0</td>\n",
       "      <td>0</td>\n",
       "    </tr>\n",
       "    <tr>\n",
       "      <th>15</th>\n",
       "      <td>0.0</td>\n",
       "      <td>0.0</td>\n",
       "      <td>24.0</td>\n",
       "      <td>68.0</td>\n",
       "      <td>0.0</td>\n",
       "      <td>1.0</td>\n",
       "      <td>0.0</td>\n",
       "      <td>75.0</td>\n",
       "      <td>131.0</td>\n",
       "      <td>4162.0</td>\n",
       "      <td>0.0</td>\n",
       "      <td>900.0</td>\n",
       "      <td>1186.0</td>\n",
       "      <td>1</td>\n",
       "    </tr>\n",
       "    <tr>\n",
       "      <th>16</th>\n",
       "      <td>15.0</td>\n",
       "      <td>1.0</td>\n",
       "      <td>24.0</td>\n",
       "      <td>52.0</td>\n",
       "      <td>1.0</td>\n",
       "      <td>1.0</td>\n",
       "      <td>1.0</td>\n",
       "      <td>35.0</td>\n",
       "      <td>330.0</td>\n",
       "      <td>16500.0</td>\n",
       "      <td>0.0</td>\n",
       "      <td>1500.0</td>\n",
       "      <td>2201.0</td>\n",
       "      <td>1</td>\n",
       "    </tr>\n",
       "    <tr>\n",
       "      <th>17</th>\n",
       "      <td>33.0</td>\n",
       "      <td>1.0</td>\n",
       "      <td>24.0</td>\n",
       "      <td>68.0</td>\n",
       "      <td>0.0</td>\n",
       "      <td>1.0</td>\n",
       "      <td>1.0</td>\n",
       "      <td>65.0</td>\n",
       "      <td>200.0</td>\n",
       "      <td>5000.0</td>\n",
       "      <td>2000.0</td>\n",
       "      <td>600.0</td>\n",
       "      <td>1350.0</td>\n",
       "      <td>1</td>\n",
       "    </tr>\n",
       "    <tr>\n",
       "      <th>18</th>\n",
       "      <td>0.0</td>\n",
       "      <td>1.0</td>\n",
       "      <td>48.0</td>\n",
       "      <td>36.0</td>\n",
       "      <td>0.0</td>\n",
       "      <td>1.0</td>\n",
       "      <td>1.0</td>\n",
       "      <td>45.0</td>\n",
       "      <td>130.0</td>\n",
       "      <td>750.0</td>\n",
       "      <td>0.0</td>\n",
       "      <td>1100.0</td>\n",
       "      <td>1511.0</td>\n",
       "      <td>0</td>\n",
       "    </tr>\n",
       "    <tr>\n",
       "      <th>19</th>\n",
       "      <td>1.0</td>\n",
       "      <td>1.0</td>\n",
       "      <td>60.0</td>\n",
       "      <td>31.0</td>\n",
       "      <td>1.0</td>\n",
       "      <td>1.0</td>\n",
       "      <td>0.0</td>\n",
       "      <td>35.0</td>\n",
       "      <td>137.0</td>\n",
       "      <td>0.0</td>\n",
       "      <td>0.0</td>\n",
       "      <td>1250.0</td>\n",
       "      <td>1253.0</td>\n",
       "      <td>1</td>\n",
       "    </tr>\n",
       "  </tbody>\n",
       "</table>\n",
       "</div>"
      ],
      "text/plain": [
       "    Seniority  Home  Time   Age  Marital  Records  Job  Expenses  Income  \\\n",
       "0         9.0   1.0  60.0  30.0      0.0      1.0  1.0      73.0   129.0   \n",
       "1        17.0   1.0  60.0  58.0      1.0      1.0  0.0      48.0   131.0   \n",
       "2        10.0   0.0  36.0  46.0      0.0      2.0  1.0      90.0   200.0   \n",
       "3         0.0   1.0  60.0  24.0      1.0      1.0  0.0      63.0   182.0   \n",
       "4         0.0   1.0  36.0  26.0      1.0      1.0  0.0      46.0   107.0   \n",
       "5         1.0   0.0  60.0  36.0      0.0      1.0  0.0      75.0   214.0   \n",
       "6        29.0   0.0  60.0  44.0      0.0      1.0  0.0      75.0   125.0   \n",
       "7         9.0   1.0  12.0  27.0      1.0      1.0  0.0      35.0    80.0   \n",
       "8         0.0   0.0  60.0  32.0      0.0      1.0  1.0      90.0   107.0   \n",
       "9         0.0   1.0  48.0  41.0      0.0      1.0  1.0      90.0    80.0   \n",
       "10        6.0   0.0  48.0  34.0      0.0      1.0  1.0      60.0   125.0   \n",
       "11        7.0   0.0  36.0  29.0      0.0      1.0  0.0      60.0   121.0   \n",
       "12        8.0   0.0  60.0  30.0      0.0      1.0  0.0      75.0   199.0   \n",
       "13       19.0   1.0  36.0  37.0      0.0      1.0  0.0      75.0   170.0   \n",
       "14        0.0   1.0  18.0  21.0      1.0      2.0  1.0      35.0    50.0   \n",
       "15        0.0   0.0  24.0  68.0      0.0      1.0  0.0      75.0   131.0   \n",
       "16       15.0   1.0  24.0  52.0      1.0      1.0  1.0      35.0   330.0   \n",
       "17       33.0   1.0  24.0  68.0      0.0      1.0  1.0      65.0   200.0   \n",
       "18        0.0   1.0  48.0  36.0      0.0      1.0  1.0      45.0   130.0   \n",
       "19        1.0   1.0  60.0  31.0      1.0      1.0  0.0      35.0   137.0   \n",
       "\n",
       "     Assets    Debt  Amount   Price  Status  \n",
       "0       0.0     0.0   800.0   846.0       1  \n",
       "1       0.0     0.0  1000.0  1658.0       1  \n",
       "2    3000.0     0.0  2000.0  2985.0       0  \n",
       "3    2500.0     0.0   900.0  1325.0       1  \n",
       "4       0.0     0.0   310.0   910.0       1  \n",
       "5    3500.0     0.0   650.0  1645.0       1  \n",
       "6   10000.0     0.0  1600.0  1800.0       1  \n",
       "7       0.0     0.0   200.0  1093.0       1  \n",
       "8   15000.0     0.0  1200.0  1957.0       1  \n",
       "9       0.0     0.0  1200.0  1468.0       0  \n",
       "10   4000.0     0.0  1150.0  1577.0       1  \n",
       "11   3000.0     0.0   650.0   915.0       1  \n",
       "12   5000.0  2500.0  1500.0  1650.0       1  \n",
       "13   3500.0   260.0   600.0   940.0       1  \n",
       "14      0.0     0.0   400.0   500.0       0  \n",
       "15   4162.0     0.0   900.0  1186.0       1  \n",
       "16  16500.0     0.0  1500.0  2201.0       1  \n",
       "17   5000.0  2000.0   600.0  1350.0       1  \n",
       "18    750.0     0.0  1100.0  1511.0       0  \n",
       "19      0.0     0.0  1250.0  1253.0       1  "
      ]
     },
     "execution_count": 3,
     "metadata": {},
     "output_type": "execute_result"
    }
   ],
   "source": [
    "scor.head(20)"
   ]
  },
  {
   "cell_type": "code",
   "execution_count": 4,
   "metadata": {},
   "outputs": [
    {
     "data": {
      "text/plain": [
       "pandas.core.frame.DataFrame"
      ]
     },
     "execution_count": 4,
     "metadata": {},
     "output_type": "execute_result"
    }
   ],
   "source": [
    "type(scor)"
   ]
  },
  {
   "cell_type": "code",
   "execution_count": 5,
   "metadata": {},
   "outputs": [
    {
     "data": {
      "text/plain": [
       "(4375, 14)"
      ]
     },
     "execution_count": 5,
     "metadata": {},
     "output_type": "execute_result"
    }
   ],
   "source": [
    "scor.shape"
   ]
  },
  {
   "cell_type": "markdown",
   "metadata": {},
   "source": [
    "## 2/ Definition des Attributs et des classes"
   ]
  },
  {
   "cell_type": "code",
   "execution_count": 6,
   "metadata": {},
   "outputs": [],
   "source": [
    "# X : Les Attributs\n",
    "# Y : Les classes\n",
    "\n",
    "X= scor.iloc[:,0:13].values\n",
    "Y= scor.iloc[:,13].values"
   ]
  },
  {
   "cell_type": "code",
   "execution_count": 7,
   "metadata": {},
   "outputs": [
    {
     "name": "stdout",
     "output_type": "stream",
     "text": [
      "Counter({1: 3159, 0: 1216})\n"
     ]
    }
   ],
   "source": [
    "from collections import Counter\n",
    "histogram=Counter(Y)\n",
    "print(histogram)"
   ]
  },
  {
   "cell_type": "code",
   "execution_count": 8,
   "metadata": {},
   "outputs": [
    {
     "data": {
      "image/png": "[encoded data removed]",
      "text/plain": [
       "<Figure size 432x288 with 1 Axes>"
      ]
     },
     "metadata": {
      "needs_background": "light"
     },
     "output_type": "display_data"
    }
   ],
   "source": [
    "plt.bar(histogram.keys(),histogram.values(), 0.3)\n",
    "plt.show()"
   ]
  },
  {
   "cell_type": "code",
   "execution_count": 9,
   "metadata": {},
   "outputs": [
    {
     "name": "stdout",
     "output_type": "stream",
     "text": [
      "Exicted : 0.722 et Non : 0.278\n"
     ]
    }
   ],
   "source": [
    "ep=np.sum(Y==1)/len(Y) \n",
    "nep=np.sum(Y==0)/len(Y)\n",
    "print('Exicted : {0:.3f} et Non : {1:.3f}'.format(ep,nep))"
   ]
  },
  {
   "cell_type": "markdown",
   "metadata": {},
   "source": [
    "## 3/ Separation de la base de données"
   ]
  },
  {
   "cell_type": "code",
   "execution_count": 10,
   "metadata": {},
   "outputs": [
    {
     "name": "stdout",
     "output_type": "stream",
     "text": [
      "(3281, 13)\n",
      "(1094, 13)\n"
     ]
    }
   ],
   "source": [
    "from sklearn.model_selection import train_test_split\n",
    "Xtrain,Xtest,Ytrain,Ytest=train_test_split(X,Y,test_size=0.25,random_state=1)\n",
    "print(Xtrain.shape)\n",
    "print(Xtest.shape)"
   ]
  },
  {
   "cell_type": "code",
   "execution_count": 11,
   "metadata": {},
   "outputs": [
    {
     "name": "stdout",
     "output_type": "stream",
     "text": [
      "(3281,)\n",
      "(1094,)\n"
     ]
    }
   ],
   "source": [
    "print(Ytrain.shape)\n",
    "print(Ytest.shape)"
   ]
  },
  {
   "cell_type": "code",
   "execution_count": 12,
   "metadata": {},
   "outputs": [
    {
     "name": "stdout",
     "output_type": "stream",
     "text": [
      "[[   1.    1.   60. ...    0. 2400. 2599.]\n",
      " [  15.    0.   48. ...    0. 1200. 1290.]\n",
      " [  31.    1.   60. ...    0. 1050. 1182.]\n",
      " ...\n",
      " [  11.    1.   12. ...    0.  300. 1479.]\n",
      " [   0.    1.   48. ...    0.  600. 1452.]\n",
      " [   1.    1.   36. ...    0. 1200. 2186.]]\n"
     ]
    }
   ],
   "source": [
    "print(Xtrain)"
   ]
  },
  {
   "cell_type": "code",
   "execution_count": 13,
   "metadata": {},
   "outputs": [
    {
     "name": "stdout",
     "output_type": "stream",
     "text": [
      "[0 1 1 ... 1 0 1]\n"
     ]
    }
   ],
   "source": [
    "print(Ytrain)"
   ]
  },
  {
   "cell_type": "code",
   "execution_count": 14,
   "metadata": {},
   "outputs": [],
   "source": [
    "pd.options.display.float_format = '{:,.4f}'.format"
   ]
  },
  {
   "cell_type": "markdown",
   "metadata": {},
   "source": [
    "### Statistiques sur la base de données\n",
    "### corélation des vecteurs"
   ]
  },
  {
   "cell_type": "code",
   "execution_count": 15,
   "metadata": {
    "scrolled": true
   },
   "outputs": [
    {
     "data": {
      "text/html": [
       "<div>\n",
       "<style scoped>\n",
       "    .dataframe tbody tr th:only-of-type {\n",
       "        vertical-align: middle;\n",
       "    }\n",
       "\n",
       "    .dataframe tbody tr th {\n",
       "        vertical-align: top;\n",
       "    }\n",
       "\n",
       "    .dataframe thead th {\n",
       "        text-align: right;\n",
       "    }\n",
       "</style>\n",
       "<table border=\"1\" class=\"dataframe\">\n",
       "  <thead>\n",
       "    <tr style=\"text-align: right;\">\n",
       "      <th></th>\n",
       "      <th>Seniority</th>\n",
       "      <th>Home</th>\n",
       "      <th>Time</th>\n",
       "      <th>Age</th>\n",
       "      <th>Marital</th>\n",
       "      <th>Records</th>\n",
       "      <th>Job</th>\n",
       "      <th>Expenses</th>\n",
       "      <th>Income</th>\n",
       "      <th>Assets</th>\n",
       "      <th>Debt</th>\n",
       "      <th>Amount</th>\n",
       "      <th>Price</th>\n",
       "      <th>Status</th>\n",
       "    </tr>\n",
       "  </thead>\n",
       "  <tbody>\n",
       "    <tr>\n",
       "      <th>Seniority</th>\n",
       "      <td>1.0000</td>\n",
       "      <td>-0.2348</td>\n",
       "      <td>-0.0184</td>\n",
       "      <td>0.5084</td>\n",
       "      <td>-0.2350</td>\n",
       "      <td>-0.0180</td>\n",
       "      <td>-0.1629</td>\n",
       "      <td>0.1252</td>\n",
       "      <td>0.1344</td>\n",
       "      <td>0.1475</td>\n",
       "      <td>-0.0162</td>\n",
       "      <td>-0.0120</td>\n",
       "      <td>0.0368</td>\n",
       "      <td>0.2638</td>\n",
       "    </tr>\n",
       "    <tr>\n",
       "      <th>Home</th>\n",
       "      <td>-0.2348</td>\n",
       "      <td>1.0000</td>\n",
       "      <td>0.0228</td>\n",
       "      <td>-0.2935</td>\n",
       "      <td>0.3106</td>\n",
       "      <td>0.0318</td>\n",
       "      <td>-0.0100</td>\n",
       "      <td>-0.0491</td>\n",
       "      <td>-0.1313</td>\n",
       "      <td>-0.2969</td>\n",
       "      <td>-0.1874</td>\n",
       "      <td>-0.0348</td>\n",
       "      <td>-0.1024</td>\n",
       "      <td>-0.2102</td>\n",
       "    </tr>\n",
       "    <tr>\n",
       "      <th>Time</th>\n",
       "      <td>-0.0184</td>\n",
       "      <td>0.0228</td>\n",
       "      <td>1.0000</td>\n",
       "      <td>-0.0524</td>\n",
       "      <td>-0.0321</td>\n",
       "      <td>0.0283</td>\n",
       "      <td>-0.1327</td>\n",
       "      <td>-0.0021</td>\n",
       "      <td>-0.0136</td>\n",
       "      <td>-0.0800</td>\n",
       "      <td>0.0616</td>\n",
       "      <td>0.4400</td>\n",
       "      <td>0.1343</td>\n",
       "      <td>-0.1064</td>\n",
       "    </tr>\n",
       "    <tr>\n",
       "      <th>Age</th>\n",
       "      <td>0.5084</td>\n",
       "      <td>-0.2935</td>\n",
       "      <td>-0.0524</td>\n",
       "      <td>1.0000</td>\n",
       "      <td>-0.3704</td>\n",
       "      <td>0.0588</td>\n",
       "      <td>0.0705</td>\n",
       "      <td>0.2459</td>\n",
       "      <td>0.1175</td>\n",
       "      <td>0.2075</td>\n",
       "      <td>-0.0516</td>\n",
       "      <td>0.0243</td>\n",
       "      <td>0.0454</td>\n",
       "      <td>0.1005</td>\n",
       "    </tr>\n",
       "    <tr>\n",
       "      <th>Marital</th>\n",
       "      <td>-0.2350</td>\n",
       "      <td>0.3106</td>\n",
       "      <td>-0.0321</td>\n",
       "      <td>-0.3704</td>\n",
       "      <td>1.0000</td>\n",
       "      <td>-0.0329</td>\n",
       "      <td>0.0141</td>\n",
       "      <td>-0.5087</td>\n",
       "      <td>-0.1324</td>\n",
       "      <td>-0.0769</td>\n",
       "      <td>-0.0496</td>\n",
       "      <td>-0.0621</td>\n",
       "      <td>-0.0940</td>\n",
       "      <td>-0.0922</td>\n",
       "    </tr>\n",
       "    <tr>\n",
       "      <th>Records</th>\n",
       "      <td>-0.0180</td>\n",
       "      <td>0.0318</td>\n",
       "      <td>0.0283</td>\n",
       "      <td>0.0588</td>\n",
       "      <td>-0.0329</td>\n",
       "      <td>1.0000</td>\n",
       "      <td>0.0249</td>\n",
       "      <td>0.0534</td>\n",
       "      <td>0.0215</td>\n",
       "      <td>0.0188</td>\n",
       "      <td>0.0165</td>\n",
       "      <td>0.1067</td>\n",
       "      <td>0.0794</td>\n",
       "      <td>-0.2767</td>\n",
       "    </tr>\n",
       "    <tr>\n",
       "      <th>Job</th>\n",
       "      <td>-0.1629</td>\n",
       "      <td>-0.0100</td>\n",
       "      <td>-0.1327</td>\n",
       "      <td>0.0705</td>\n",
       "      <td>0.0141</td>\n",
       "      <td>0.0249</td>\n",
       "      <td>1.0000</td>\n",
       "      <td>0.0038</td>\n",
       "      <td>-0.1469</td>\n",
       "      <td>0.1712</td>\n",
       "      <td>0.0195</td>\n",
       "      <td>0.0413</td>\n",
       "      <td>0.0296</td>\n",
       "      <td>-0.2091</td>\n",
       "    </tr>\n",
       "    <tr>\n",
       "      <th>Expenses</th>\n",
       "      <td>0.1252</td>\n",
       "      <td>-0.0491</td>\n",
       "      <td>-0.0021</td>\n",
       "      <td>0.2459</td>\n",
       "      <td>-0.5087</td>\n",
       "      <td>0.0534</td>\n",
       "      <td>0.0038</td>\n",
       "      <td>1.0000</td>\n",
       "      <td>0.2416</td>\n",
       "      <td>0.0168</td>\n",
       "      <td>0.0145</td>\n",
       "      <td>0.0450</td>\n",
       "      <td>0.0395</td>\n",
       "      <td>-0.0297</td>\n",
       "    </tr>\n",
       "    <tr>\n",
       "      <th>Income</th>\n",
       "      <td>0.1344</td>\n",
       "      <td>-0.1313</td>\n",
       "      <td>-0.0136</td>\n",
       "      <td>0.1175</td>\n",
       "      <td>-0.1324</td>\n",
       "      <td>0.0215</td>\n",
       "      <td>-0.1469</td>\n",
       "      <td>0.2416</td>\n",
       "      <td>1.0000</td>\n",
       "      <td>0.1468</td>\n",
       "      <td>0.1059</td>\n",
       "      <td>0.1401</td>\n",
       "      <td>0.1675</td>\n",
       "      <td>0.2059</td>\n",
       "    </tr>\n",
       "    <tr>\n",
       "      <th>Assets</th>\n",
       "      <td>0.1475</td>\n",
       "      <td>-0.2969</td>\n",
       "      <td>-0.0800</td>\n",
       "      <td>0.2075</td>\n",
       "      <td>-0.0769</td>\n",
       "      <td>0.0188</td>\n",
       "      <td>0.1712</td>\n",
       "      <td>0.0168</td>\n",
       "      <td>0.1468</td>\n",
       "      <td>1.0000</td>\n",
       "      <td>0.1849</td>\n",
       "      <td>0.1551</td>\n",
       "      <td>0.2173</td>\n",
       "      <td>0.1071</td>\n",
       "    </tr>\n",
       "    <tr>\n",
       "      <th>Debt</th>\n",
       "      <td>-0.0162</td>\n",
       "      <td>-0.1874</td>\n",
       "      <td>0.0616</td>\n",
       "      <td>-0.0516</td>\n",
       "      <td>-0.0496</td>\n",
       "      <td>0.0165</td>\n",
       "      <td>0.0195</td>\n",
       "      <td>0.0145</td>\n",
       "      <td>0.1059</td>\n",
       "      <td>0.1849</td>\n",
       "      <td>1.0000</td>\n",
       "      <td>0.0508</td>\n",
       "      <td>0.0424</td>\n",
       "      <td>-0.0058</td>\n",
       "    </tr>\n",
       "    <tr>\n",
       "      <th>Amount</th>\n",
       "      <td>-0.0120</td>\n",
       "      <td>-0.0348</td>\n",
       "      <td>0.4400</td>\n",
       "      <td>0.0243</td>\n",
       "      <td>-0.0621</td>\n",
       "      <td>0.1067</td>\n",
       "      <td>0.0413</td>\n",
       "      <td>0.0450</td>\n",
       "      <td>0.1401</td>\n",
       "      <td>0.1551</td>\n",
       "      <td>0.0508</td>\n",
       "      <td>1.0000</td>\n",
       "      <td>0.7180</td>\n",
       "      <td>-0.1527</td>\n",
       "    </tr>\n",
       "    <tr>\n",
       "      <th>Price</th>\n",
       "      <td>0.0368</td>\n",
       "      <td>-0.1024</td>\n",
       "      <td>0.1343</td>\n",
       "      <td>0.0454</td>\n",
       "      <td>-0.0940</td>\n",
       "      <td>0.0794</td>\n",
       "      <td>0.0296</td>\n",
       "      <td>0.0395</td>\n",
       "      <td>0.1675</td>\n",
       "      <td>0.2173</td>\n",
       "      <td>0.0424</td>\n",
       "      <td>0.7180</td>\n",
       "      <td>1.0000</td>\n",
       "      <td>-0.0041</td>\n",
       "    </tr>\n",
       "    <tr>\n",
       "      <th>Status</th>\n",
       "      <td>0.2638</td>\n",
       "      <td>-0.2102</td>\n",
       "      <td>-0.1064</td>\n",
       "      <td>0.1005</td>\n",
       "      <td>-0.0922</td>\n",
       "      <td>-0.2767</td>\n",
       "      <td>-0.2091</td>\n",
       "      <td>-0.0297</td>\n",
       "      <td>0.2059</td>\n",
       "      <td>0.1071</td>\n",
       "      <td>-0.0058</td>\n",
       "      <td>-0.1527</td>\n",
       "      <td>-0.0041</td>\n",
       "      <td>1.0000</td>\n",
       "    </tr>\n",
       "  </tbody>\n",
       "</table>\n",
       "</div>"
      ],
      "text/plain": [
       "           Seniority    Home    Time     Age  Marital  Records     Job  \\\n",
       "Seniority     1.0000 -0.2348 -0.0184  0.5084  -0.2350  -0.0180 -0.1629   \n",
       "Home         -0.2348  1.0000  0.0228 -0.2935   0.3106   0.0318 -0.0100   \n",
       "Time         -0.0184  0.0228  1.0000 -0.0524  -0.0321   0.0283 -0.1327   \n",
       "Age           0.5084 -0.2935 -0.0524  1.0000  -0.3704   0.0588  0.0705   \n",
       "Marital      -0.2350  0.3106 -0.0321 -0.3704   1.0000  -0.0329  0.0141   \n",
       "Records      -0.0180  0.0318  0.0283  0.0588  -0.0329   1.0000  0.0249   \n",
       "Job          -0.1629 -0.0100 -0.1327  0.0705   0.0141   0.0249  1.0000   \n",
       "Expenses      0.1252 -0.0491 -0.0021  0.2459  -0.5087   0.0534  0.0038   \n",
       "Income        0.1344 -0.1313 -0.0136  0.1175  -0.1324   0.0215 -0.1469   \n",
       "Assets        0.1475 -0.2969 -0.0800  0.2075  -0.0769   0.0188  0.1712   \n",
       "Debt         -0.0162 -0.1874  0.0616 -0.0516  -0.0496   0.0165  0.0195   \n",
       "Amount       -0.0120 -0.0348  0.4400  0.0243  -0.0621   0.1067  0.0413   \n",
       "Price         0.0368 -0.1024  0.1343  0.0454  -0.0940   0.0794  0.0296   \n",
       "Status        0.2638 -0.2102 -0.1064  0.1005  -0.0922  -0.2767 -0.2091   \n",
       "\n",
       "           Expenses  Income  Assets    Debt  Amount   Price  Status  \n",
       "Seniority    0.1252  0.1344  0.1475 -0.0162 -0.0120  0.0368  0.2638  \n",
       "Home        -0.0491 -0.1313 -0.2969 -0.1874 -0.0348 -0.1024 -0.2102  \n",
       "Time        -0.0021 -0.0136 -0.0800  0.0616  0.4400  0.1343 -0.1064  \n",
       "Age          0.2459  0.1175  0.2075 -0.0516  0.0243  0.0454  0.1005  \n",
       "Marital     -0.5087 -0.1324 -0.0769 -0.0496 -0.0621 -0.0940 -0.0922  \n",
       "Records      0.0534  0.0215  0.0188  0.0165  0.1067  0.0794 -0.2767  \n",
       "Job          0.0038 -0.1469  0.1712  0.0195  0.0413  0.0296 -0.2091  \n",
       "Expenses     1.0000  0.2416  0.0168  0.0145  0.0450  0.0395 -0.0297  \n",
       "Income       0.2416  1.0000  0.1468  0.1059  0.1401  0.1675  0.2059  \n",
       "Assets       0.0168  0.1468  1.0000  0.1849  0.1551  0.2173  0.1071  \n",
       "Debt         0.0145  0.1059  0.1849  1.0000  0.0508  0.0424 -0.0058  \n",
       "Amount       0.0450  0.1401  0.1551  0.0508  1.0000  0.7180 -0.1527  \n",
       "Price        0.0395  0.1675  0.2173  0.0424  0.7180  1.0000 -0.0041  \n",
       "Status      -0.0297  0.2059  0.1071 -0.0058 -0.1527 -0.0041  1.0000  "
      ]
     },
     "execution_count": 15,
     "metadata": {},
     "output_type": "execute_result"
    }
   ],
   "source": [
    "scor.corr()"
   ]
  },
  {
   "cell_type": "code",
   "execution_count": 16,
   "metadata": {
    "scrolled": true
   },
   "outputs": [
    {
     "data": {
      "image/png": "[encoded data removed]",
      "text/plain": [
       "<Figure size 1152x720 with 2 Axes>"
      ]
     },
     "metadata": {
      "needs_background": "light"
     },
     "output_type": "display_data"
    }
   ],
   "source": [
    "import seaborn as sns;\n",
    "plt.figure(figsize=(16,10))\n",
    "sns.heatmap(scor.corr(), annot=True)\n",
    "plt.show()"
   ]
  },
  {
   "cell_type": "code",
   "execution_count": 17,
   "metadata": {
    "scrolled": true
   },
   "outputs": [
    {
     "data": {
      "image/png": "[encoded data removed]",
      "text/plain": [
       "<Figure size 1152x720 with 2 Axes>"
      ]
     },
     "metadata": {
      "needs_background": "light"
     },
     "output_type": "display_data"
    }
   ],
   "source": [
    "plt.figure(figsize=(16,10))\n",
    "sns.heatmap(scor[['Seniority','Home','Time','Age','Marital','Expenses','Amount','Price','Home','Status']].corr(), annot=True)\n",
    "plt.show()"
   ]
  },
  {
   "cell_type": "code",
   "execution_count": 18,
   "metadata": {},
   "outputs": [],
   "source": [
    "\n",
    "## 4-5/ Apprentissage et Test de modeles (par L'arbre de décision)\n",
    "\n"
   ]
  },
  {
   "cell_type": "code",
   "execution_count": 19,
   "metadata": {},
   "outputs": [],
   "source": [
    "from sklearn.metrics import confusion_matrix, accuracy_score, precision_score, recall_score\n",
    "\n",
    "from sklearn.preprocessing import StandardScaler, MinMaxScaler\n",
    " \n",
    "from sklearn.tree import DecisionTreeClassifier\n",
    "\n",
    "def ClassifeurExcited (Xtrain,Xtest,Ytrain,Ytest):\n",
    "    print('DecisionTreeClassifier') \n",
    "    DT=DecisionTreeClassifier(random_state=0,criterion='entropy')    \n",
    "\n",
    "    DT.fit(Xtrain,Ytrain) \n",
    "    YDT=DT.predict(Xtest)\n",
    "    \n",
    "    print ('Accuracy = {0:3f}, recall = {1:.3f}'.format(accuracy_score(Ytest,YDT),recall_score(Ytest,YDT)))\n",
    "    acc1=accuracy_score(Ytest,YDT)\n",
    "    pre1=recall_score(Ytest,YDT)\n",
    "    score1=(acc1+pre1)/2\n",
    "    print()\n",
    "    print('------------> score 1 = {0:3f}'.format(score1))\n",
    "    print()\n",
    "    print('matrice de confusion')\n",
    "    print(confusion_matrix(Ytest, YDT))\n",
    "    print()\n",
    "    "
   ]
  },
  {
   "cell_type": "markdown",
   "metadata": {},
   "source": [
    "###  Normalisation des données\n",
    "###  Matrice de confusion\n",
    " "
   ]
  },
  {
   "cell_type": "code",
   "execution_count": 20,
   "metadata": {},
   "outputs": [
    {
     "name": "stdout",
     "output_type": "stream",
     "text": [
      "DecisionTreeClassifier\n",
      "Accuracy = 0.714808, recall = 0.788\n",
      "\n",
      "------------> score 1 = 0.751419\n",
      "\n",
      "matrice de confusion\n",
      "[[150 142]\n",
      " [170 632]]\n",
      "\n"
     ]
    }
   ],
   "source": [
    "ss = StandardScaler()\n",
    "ss.fit(Xtrain)\n",
    "Xtrain_norm = ss.transform(Xtrain)\n",
    "Xtest_norm = ss.transform(Xtest)\n",
    "ClassifeurExcited( Xtrain, Xtest, Ytrain, Ytest)"
   ]
  },
  {
   "cell_type": "markdown",
   "metadata": {},
   "source": [
    "\n"
   ]
  },
  {
   "cell_type": "markdown",
   "metadata": {},
   "source": [
    "## 6/ Evaluation des performance et interprétation "
   ]
  },
  {
   "cell_type": "code",
   "execution_count": 21,
   "metadata": {},
   "outputs": [
    {
     "data": {
      "text/plain": [
       "array([[1.        , 0.97092327, 0.69017641, ..., 0.14308904, 0.99676912,\n",
       "        0.3130868 ],\n",
       "       [0.97092327, 1.        , 0.71300839, ..., 0.16856603, 0.95767971,\n",
       "        0.32456976],\n",
       "       [0.69017641, 0.71300839, 1.        , ..., 0.80864871, 0.67560931,\n",
       "        0.87478522],\n",
       "       ...,\n",
       "       [0.14308904, 0.16856603, 0.80864871, ..., 1.        , 0.13269568,\n",
       "        0.95375965],\n",
       "       [0.99676912, 0.95767971, 0.67560931, ..., 0.13269568, 1.        ,\n",
       "        0.30141782],\n",
       "       [0.3130868 , 0.32456976, 0.87478522, ..., 0.95375965, 0.30141782,\n",
       "        1.        ]])"
      ]
     },
     "execution_count": 21,
     "metadata": {},
     "output_type": "execute_result"
    }
   ],
   "source": [
    "np.corrcoef(scor)"
   ]
  },
  {
   "cell_type": "code",
   "execution_count": 22,
   "metadata": {},
   "outputs": [],
   "source": [
    "from sklearn.model_selection import train_test_split\n",
    "from sklearn.tree import DecisionTreeClassifier\n",
    "from sklearn.metrics import confusion_matrix,accuracy_score,precision_score,recall_score,roc_auc_score\n",
    "from sklearn.ensemble import RandomForestClassifier\n",
    "from sklearn.neural_network import MLPClassifier\n",
    "from sklearn.ensemble import AdaBoostClassifier\n"
   ]
  },
  {
   "cell_type": "code",
   "execution_count": 23,
   "metadata": {},
   "outputs": [],
   "source": [
    "\n",
    "Xtrain,Xtest,Ytrain,Ytest=train_test_split(X,Y,test_size=0.25,random_state=1)"
   ]
  },
  {
   "cell_type": "code",
   "execution_count": 24,
   "metadata": {},
   "outputs": [],
   "source": [
    "def ClassifieurExcited(Xtrain,Xtest,Ytrain,Ytest):\n",
    "    print('DecisionTreeClassifier') \n",
    "    DT=DecisionTreeClassifier(random_state=0, criterion='entropy')\n",
    "    DT.fit(Xtrain,Ytrain)\n",
    "    YDT=DT.predict(Xtest)\n",
    "\n",
    "    print('Accuracy = {0:.3f}, Recall = {1:.3f}'.format(accuracy_score(Ytest,YDT), recall_score(Ytest,YDT)))\n",
    "    acc1=accuracy_score(Ytest,YDT)\n",
    "    rec1=recall_score(Ytest,YDT)\n",
    "    score1=(acc1+rec1)/2\n",
    "    print()\n",
    "    print('--> Score 1 = {0:.3f}'.format(score1))\n",
    "    print()\n",
    "    print('Matrice de confision')\n",
    "    print(confusion_matrix(Ytest, YDT))\n",
    "    print()\n",
    "    print('###################################')\n",
    "\n",
    "    print('RandomForestClassifier') \n",
    "    RF=RandomForestClassifier(n_estimators=100, random_state=1)\n",
    "\n",
    "    RF.fit(Xtrain,Ytrain)\n",
    "    YRF=RF.predict(Xtest)\n",
    "\n",
    "    print('Accuracy = {0:.3f}, Recall = {1:.3f}'.format(accuracy_score(Ytest,YRF), recall_score(Ytest,YRF)))\n",
    "    acc2=accuracy_score(Ytest,YRF)\n",
    "    rec2=recall_score(Ytest,YRF)\n",
    "    score2=(acc2+rec2)/2\n",
    "    print()\n",
    "    print('--> Score 2 = {0:.3f}'.format(score2))\n",
    "    print()\n",
    "    print('Matrice de confision')\n",
    "    print(confusion_matrix(Ytest, YRF))\n",
    "    print()\n",
    "    print('###########################')\n",
    "\n",
    "\n",
    "\n",
    "    print('MLPClassifier')\n",
    "    ML=MLPClassifier(hidden_layer_sizes=(20,10),alpha=0.001, max_iter=200)\n",
    "\n",
    "    ML.fit(Xtrain,Ytrain)\n",
    "    YML=ML.predict(Xtest)\n",
    "\n",
    "    print('Accuracy = {0:.3f}, Recall = {1:.3f}'.format(accuracy_score(Ytest,YML), recall_score(Ytest,YML)))\n",
    "    acc3=accuracy_score(Ytest,YML)\n",
    "    rec3=recall_score(Ytest,YML)\n",
    "    score3=(acc3+rec3)/2\n",
    "    print()\n",
    "    print('--> Score 3 = {0:.3f}'.format(score3))\n",
    "    print()\n",
    "    print('Matrice de confision')\n",
    "    print(confusion_matrix(Ytest, YML))\n",
    "    print()\n",
    "    print('###########################')\n",
    "\n",
    "\n",
    "\n",
    "\n",
    "\n",
    "    print('AdaBoostClassifier')\n",
    "    AdaC=AdaBoostClassifier(n_estimators=100, random_state=0)\n",
    "\n",
    "    AdaC.fit(Xtrain,Ytrain)\n",
    "    AdaC.feature_importances_\n",
    "    YAdaC=AdaC.predict(Xtest)\n",
    "\n",
    "    print('Accuracy = {0:.3f}, Recall = {1:.3f}'.format(accuracy_score(Ytest,YAdaC), recall_score(Ytest,YAdaC)))\n",
    "    acc4=accuracy_score(Ytest,YAdaC)\n",
    "    rec4=recall_score(Ytest,YAdaC)\n",
    "    score4=(acc4+rec4)/2\n",
    "    print()\n",
    "    print('--> Score 4 = {0:.3f}'.format(score4))\n",
    "    print()\n",
    "    print('Matrice de confision')\n",
    "    print(confusion_matrix(Ytest, YAdaC))\n",
    "    print()\n",
    "\n"
   ]
  },
  {
   "cell_type": "code",
   "execution_count": 25,
   "metadata": {},
   "outputs": [
    {
     "name": "stdout",
     "output_type": "stream",
     "text": [
      "DecisionTreeClassifier\n",
      "Accuracy = 0.715, Recall = 0.788\n",
      "\n",
      "--> Score 1 = 0.751\n",
      "\n",
      "Matrice de confision\n",
      "[[150 142]\n",
      " [170 632]]\n",
      "\n",
      "###################################\n",
      "RandomForestClassifier\n",
      "Accuracy = 0.785, Recall = 0.893\n",
      "\n",
      "--> Score 2 = 0.839\n",
      "\n",
      "Matrice de confision\n",
      "[[143 149]\n",
      " [ 86 716]]\n",
      "\n",
      "###########################\n",
      "MLPClassifier\n",
      "Accuracy = 0.761, Recall = 0.882\n",
      "\n",
      "--> Score 3 = 0.821\n",
      "\n",
      "Matrice de confision\n",
      "[[126 166]\n",
      " [ 95 707]]\n",
      "\n",
      "###########################\n",
      "AdaBoostClassifier\n",
      "Accuracy = 0.797, Recall = 0.890\n",
      "\n",
      "--> Score 4 = 0.844\n",
      "\n",
      "Matrice de confision\n",
      "[[158 134]\n",
      " [ 88 714]]\n",
      "\n"
     ]
    }
   ],
   "source": [
    "ClassifieurExcited(Xtrain,Xtest,Ytrain,Ytest)"
   ]
  },
  {
   "cell_type": "code",
   "execution_count": 26,
   "metadata": {},
   "outputs": [],
   "source": [
    "#importation des standars de normalisation\n",
    "from sklearn.preprocessing import StandardScaler, MinMaxScaler"
   ]
  },
  {
   "cell_type": "code",
   "execution_count": 27,
   "metadata": {},
   "outputs": [],
   "source": [
    "ss=StandardScaler()\n",
    "ss.fit(Xtrain)\n",
    "Xtrain_norm=ss.transform(Xtrain)\n",
    "Xtest_norm=ss.transform(Xtest)"
   ]
  },
  {
   "cell_type": "code",
   "execution_count": 28,
   "metadata": {},
   "outputs": [
    {
     "name": "stdout",
     "output_type": "stream",
     "text": [
      "DecisionTreeClassifier\n",
      "Accuracy = 0.719, Recall = 0.788\n",
      "\n",
      "--> Score 1 = 0.754\n",
      "\n",
      "Matrice de confision\n",
      "[[155 137]\n",
      " [170 632]]\n",
      "\n",
      "###################################\n",
      "RandomForestClassifier\n",
      "Accuracy = 0.787, Recall = 0.893\n",
      "\n",
      "--> Score 2 = 0.840\n",
      "\n",
      "Matrice de confision\n",
      "[[145 147]\n",
      " [ 86 716]]\n",
      "\n",
      "###########################\n",
      "MLPClassifier\n",
      "Accuracy = 0.787, Recall = 0.869\n",
      "\n",
      "--> Score 3 = 0.828\n",
      "\n",
      "Matrice de confision\n",
      "[[164 128]\n",
      " [105 697]]\n",
      "\n",
      "###########################\n",
      "AdaBoostClassifier\n",
      "Accuracy = 0.797, Recall = 0.890\n",
      "\n",
      "--> Score 4 = 0.844\n",
      "\n",
      "Matrice de confision\n",
      "[[158 134]\n",
      " [ 88 714]]\n",
      "\n"
     ]
    }
   ],
   "source": [
    "ClassifieurExcited (Xtrain_norm,Xtest_norm,Ytrain,Ytest)"
   ]
  },
  {
   "cell_type": "code",
   "execution_count": 29,
   "metadata": {},
   "outputs": [],
   "source": [
    "from sklearn.model_selection import GridSearchCV"
   ]
  },
  {
   "cell_type": "code",
   "execution_count": 30,
   "metadata": {},
   "outputs": [],
   "source": [
    "parametres={'n_estimators':[100,200,300,400,500,600,700,800,900]}\n",
    "#Tester toutes les possibilités dans l'algorithme choisi"
   ]
  },
  {
   "cell_type": "code",
   "execution_count": 31,
   "metadata": {},
   "outputs": [],
   "source": [
    "model=AdaBoostClassifier()\n",
    "GS=GridSearchCV(model, parametres, cv=5, scoring='accuracy')\n"
   ]
  },
  {
   "cell_type": "code",
   "execution_count": 32,
   "metadata": {},
   "outputs": [
    {
     "data": {
      "text/plain": [
       "{'n_estimators': 100}"
      ]
     },
     "execution_count": 32,
     "metadata": {},
     "output_type": "execute_result"
    }
   ],
   "source": [
    "GS.fit(Xtrain,Ytrain)\n",
    "GS.best_params_"
   ]
  },
  {
   "cell_type": "code",
   "execution_count": 33,
   "metadata": {},
   "outputs": [],
   "source": [
    "from sklearn.decomposition import PCA"
   ]
  },
  {
   "cell_type": "code",
   "execution_count": 34,
   "metadata": {},
   "outputs": [],
   "source": [
    "from sklearn.pipeline import Pipeline \n",
    "import pickle \n",
    "from sklearn.pipeline import FeatureUnion\n",
    "from sklearn.preprocessing import StandardScaler, MinMaxScaler\n",
    "ss = StandardScaler()\n"
   ]
  },
  {
   "cell_type": "code",
   "execution_count": 35,
   "metadata": {},
   "outputs": [],
   "source": [
    "pca=PCA(n_components=3)\n",
    "pca.fit(Xtrain)\n",
    "Xtrain_pca=pca.transform(Xtrain)\n",
    "Xtest_pca=pca.transform(Xtest)\n",
    "Xtrain_pca=np.concatenate((Xtrain,Xtrain_pca),axis=1)\n",
    "Xtest_pca=np.concatenate((Xtest,Xtest_pca),axis=1)\n"
   ]
  },
  {
   "cell_type": "code",
   "execution_count": 36,
   "metadata": {},
   "outputs": [
    {
     "name": "stdout",
     "output_type": "stream",
     "text": [
      "DecisionTreeClassifier\n",
      "Accuracy = 0.714, Recall = 0.789\n",
      "\n",
      "--> Score 1 = 0.752\n",
      "\n",
      "Matrice de confision\n",
      "[[148 144]\n",
      " [169 633]]\n",
      "\n",
      "###################################\n",
      "RandomForestClassifier\n",
      "Accuracy = 0.789, Recall = 0.893\n",
      "\n",
      "--> Score 2 = 0.841\n",
      "\n",
      "Matrice de confision\n",
      "[[147 145]\n",
      " [ 86 716]]\n",
      "\n",
      "###########################\n",
      "MLPClassifier\n",
      "Accuracy = 0.768, Recall = 0.868\n",
      "\n",
      "--> Score 3 = 0.818\n",
      "\n",
      "Matrice de confision\n",
      "[[144 148]\n",
      " [106 696]]\n",
      "\n",
      "###########################\n",
      "AdaBoostClassifier\n",
      "Accuracy = 0.793, Recall = 0.889\n",
      "\n",
      "--> Score 4 = 0.841\n",
      "\n",
      "Matrice de confision\n",
      "[[154 138]\n",
      " [ 89 713]]\n",
      "\n"
     ]
    }
   ],
   "source": [
    "ClassifieurExcited(Xtrain_pca,Xtest_pca,Ytrain,Ytest)"
   ]
  },
  {
   "cell_type": "code",
   "execution_count": 37,
   "metadata": {},
   "outputs": [],
   "source": [
    "\n",
    "P=Pipeline([\n",
    "            ('ss', StandardScaler()),\n",
    "            ('FU', FeatureUnion([('ss', StandardScaler()),\n",
    "                                 ('pca', PCA(n_components=3))])),\n",
    "            ('AD', AdaBoostClassifier(n_estimators=100))\n",
    "])\n",
    "P.fit(X,Y)\n",
    "pickle.dump(P,open('MonClassifieur.pkl','wb'))"
   ]
  }
 ],
 "metadata": {
  "kernelspec": {
   "display_name": "Python 3",
   "language": "python",
   "name": "python3"
  },
  "language_info": {
   "codemirror_mode": {
    "name": "ipython",
    "version": 3
   },
   "file_extension": ".py",
   "mimetype": "text/x-python",
   "name": "python",
   "nbconvert_exporter": "python",
   "pygments_lexer": "ipython3",
   "version": "3.8.3"
  }
 },
 "nbformat": 4,
 "nbformat_minor": 4
}
